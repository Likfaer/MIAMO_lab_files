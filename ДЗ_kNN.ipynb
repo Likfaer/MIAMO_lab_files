{
  "nbformat": 4,
  "nbformat_minor": 0,
  "metadata": {
    "colab": {
      "provenance": [],
      "toc_visible": true
    },
    "kernelspec": {
      "name": "python3",
      "display_name": "Python 3"
    },
    "language_info": {
      "name": "python"
    }
  },
  "cells": [
    {
      "cell_type": "code",
      "execution_count": null,
      "metadata": {
        "colab": {
          "base_uri": "https://localhost:8080/",
          "height": 447
        },
        "id": "IVjliMaA7DzJ",
        "outputId": "ce3a316f-f20c-49aa-d9d4-539998b6c92f"
      },
      "outputs": [
        {
          "output_type": "execute_result",
          "data": {
            "text/plain": [
              "<matplotlib.collections.PathCollection at 0x7fc8344dc760>"
            ]
          },
          "metadata": {},
          "execution_count": 8
        },
        {
          "output_type": "display_data",
          "data": {
            "text/plain": [
              "<Figure size 640x480 with 1 Axes>"
            ],
            "image/png": "[encoded data removed]"
          },
          "metadata": {}
        }
      ],
      "source": [
        "#считываем данные, первая колонка - возрас, вторая - доход, третья (метка) допустил просрочку, или нет\n",
        "\n",
        "import numpy as np\n",
        "from matplotlib import pyplot as plt\n",
        "data = np.loadtxt('data.txt')\n",
        "x = data[:0]\n",
        "y = data[:1]\n",
        "x = data[:,0]\n",
        "y = data[:,1]\n",
        "plt.scatter(x, y)"
      ]
    },
    {
      "cell_type": "markdown",
      "source": [
        "Простейший вариант применения алгоритма:\n",
        "\n",
        "1. Выбираем число k - сколько ближайших соседей берем.\n",
        "2. Для очередного клиента считаем расстояние для всех точек, сортируем по возрастанию, берем k первых записей\n",
        "3. Считаем, к каким классам относятся выбранные точки, и выбираем тот класс, точек которого больше (метод простого голосования)"
      ],
      "metadata": {
        "id": "J_wF4XXc-yuG"
      }
    },
    {
      "cell_type": "code",
      "source": [
        "#определяем функцию евклидова расстояния в двумерном пространстве\n",
        "#между точками (x1, y1) и (x2, y2)\n",
        "#корень опускаем, для сравнения он не важен\n",
        "def d(x1, y1, x2, y2):\n",
        "  return (x1 - x2) ** 2 + (y1 - y2) ** 2\n",
        "\n",
        "k = 6\n",
        "#заемщик, для которого нужно сделать прогноз\n",
        "age = 34\n",
        "sal = 40\n",
        "\n",
        "#определяем расстояния до известных случаев:\n",
        "res = []\n",
        "for loaner in data:\n",
        "  age_l = loaner[0]\n",
        "  sal_l = loaner[1]\n",
        "  label = loaner[2]\n",
        "  res.append([d(age, sal, age_l, sal_l), label])\n",
        "res = np.array(sorted(res))\n",
        "res = res[:6, 1]\n",
        "if sum(res) > k // 2:\n",
        "  print('Вернет')\n",
        "else:\n",
        "  print('Не вернет')\n",
        "\n",
        "\n"
      ],
      "metadata": {
        "colab": {
          "base_uri": "https://localhost:8080/"
        },
        "id": "LxHrZUW2_mOt",
        "outputId": "d21397f4-c03d-46f6-9ae3-361e9a988ce4"
      },
      "execution_count": null,
      "outputs": [
        {
          "output_type": "stream",
          "name": "stdout",
          "text": [
            "Вернет\n"
          ]
        }
      ]
    },
    {
      "cell_type": "markdown",
      "source": [
        "## Домашнее задание\n",
        "\n",
        "1. Попробуйте изменить количество ближайших соседей в алгоритме k-ближайших соседей и определите, как это влияет на точность модели.\n",
        "\n",
        "2. Попробуйте изменить количество признаков (возраст и доход) в модели и определите, как это влияет на точность модели.\n",
        "\n",
        "3. Изучите материалы [ноутбука](https://colab.research.google.com/drive/15-4px4-LJqKa7pPPzCkpLEr_Vc4a7oY1?usp=sharing) перезапустите все кодовые ячейки и ответьте на вопросы в ноутбуке, предварительно сохранив на свой гугл-диск его копию в коллабе. \n",
        "\n",
        "3. Проверить решение описанной в этом ноутбуке задачи методом kNN из библиотеки **sklearn**. Для оценки точности модели используйте метрику `accuracy_score`."
      ],
      "metadata": {
        "id": "h6-Od6AXot45"
      }
    }
  ]
}